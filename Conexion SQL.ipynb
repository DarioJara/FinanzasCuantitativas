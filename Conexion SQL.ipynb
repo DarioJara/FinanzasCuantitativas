{
 "cells": [
  {
   "cell_type": "markdown",
   "id": "6ef05eef",
   "metadata": {},
   "source": [
    "Conexion y Envio de Correos de Python a SQL Server"
   ]
  },
  {
   "cell_type": "code",
   "execution_count": 15,
   "id": "8af3bccf",
   "metadata": {},
   "outputs": [
    {
     "name": "stdout",
     "output_type": "stream",
     "text": [
      "Error al conectar a SQL Server: ('28000', \"[28000] [Microsoft][ODBC Driver 17 for SQL Server][SQL Server]Login failed for user 'PruebaConexion'. (18456) (SQLDriverConnect); [28000] [Microsoft][ODBC Driver 17 for SQL Server][SQL Server]Login failed for user 'PruebaConexion'. (18456)\")\n"
     ]
    }
   ],
   "source": [
    "import pyodbc\n",
    "\n",
    "# Establece los parámetros de conexión\n",
    "server = 'PcLaboratorio\\MSSQLSERVER01' #Nombre del Servidor\n",
    "database = 'ODS_QAS' #Base Datos\n",
    "username = 'PruebaConexion' #Usuario Authentication SQL Server\n",
    "password = 'xx' #Modificar Contraseña\n",
    "\n",
    "# Establece la cadena de conexión\n",
    "connection_string = f'DRIVER={{ODBC Driver 17 for SQL Server}};SERVER={server};DATABASE={database};UID={username};PWD={password}'\n",
    "\n",
    "# Intenta conectar\n",
    "try:\n",
    "    conn = pyodbc.connect(connection_string)\n",
    "\n",
    "    # Crea un cursor para ejecutar consultas\n",
    "    cursor = conn.cursor()\n",
    "\n",
    "    # Ejecuta una consulta de ejemplo\n",
    "    cursor.execute(\"SELECT * FROM Tabla\")\n",
    "\n",
    "    # Recupera los resultados\n",
    "    rows = cursor.fetchall()\n",
    "\n",
    "    # Imprime los resultados\n",
    "    for row in rows:\n",
    "        print(row)\n",
    "\n",
    "    # Cierra el cursor y la conexión\n",
    "    cursor.close()\n",
    "    conn.close()\n",
    "\n",
    "except pyodbc.Error as e:\n",
    "    print(\"Error al conectar a SQL Server:\", e)"
   ]
  },
  {
   "cell_type": "code",
   "execution_count": 14,
   "id": "29a9224b",
   "metadata": {},
   "outputs": [
    {
     "name": "stdout",
     "output_type": "stream",
     "text": [
      "Correo Succefull\n"
     ]
    }
   ],
   "source": [
    "#Correo Electronico desde Python\n",
    "\n",
    "import smtplib\n",
    "#from decouple import config\n",
    "message = \"HOLA, UN MENSAJE DESDE PYTHON\"\n",
    "correo='kalep1306@gmail.com'\n",
    "contraseña='xx' #Contraseña temporal\n",
    "correo_destino='dariojara@credicorpcapital.com'\n",
    "server=smtplib.SMTP('smtp.gmail.com',587)\n",
    "server.starttls()\n",
    "#server.login('kalep1306@gmail.com',config('Mail_Password'))\n",
    "server.login(correo,contraseña)\n",
    "server.sendmail(correo,correo,message)\n",
    "server.quit()\n",
    "print(\"Correo Succefull\")"
   ]
  },
  {
   "cell_type": "code",
   "execution_count": null,
   "id": "322e14d2",
   "metadata": {},
   "outputs": [],
   "source": []
  }
 ],
 "metadata": {
  "kernelspec": {
   "display_name": "Python 3 (ipykernel)",
   "language": "python",
   "name": "python3"
  },
  "language_info": {
   "codemirror_mode": {
    "name": "ipython",
    "version": 3
   },
   "file_extension": ".py",
   "mimetype": "text/x-python",
   "name": "python",
   "nbconvert_exporter": "python",
   "pygments_lexer": "ipython3",
   "version": "3.9.7"
  }
 },
 "nbformat": 4,
 "nbformat_minor": 5
}
